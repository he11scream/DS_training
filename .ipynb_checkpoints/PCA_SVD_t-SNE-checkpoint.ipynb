{
 "cells": [
  {
   "cell_type": "markdown",
   "id": "61dcfeef",
   "metadata": {},
   "source": [
    "# Понижение размерности"
   ]
  },
  {
   "cell_type": "markdown",
   "id": "1cafcfcc",
   "metadata": {},
   "source": [
    "## Метод PCA \n",
    "Метод позволяет снизить число переменных, выбрав самые изменчивые из них.\n",
    "* Главные компоненты - это новые переменные, которые представляют собой линейные преобразования от исходных переменных"
   ]
  },
  {
   "cell_type": "markdown",
   "id": "ecd432b0",
   "metadata": {},
   "source": [
    "![](PCA.png)"
   ]
  },
  {
   "cell_type": "markdown",
   "id": "d78afffc",
   "metadata": {},
   "source": [
    "## Применение PCA\n",
    "Может быть применём для любых данных"
   ]
  },
  {
   "cell_type": "code",
   "execution_count": 1,
   "id": "29bca359",
   "metadata": {},
   "outputs": [],
   "source": [
    "import numpy as np\n",
    "import matplotlib.pyplot as plt\n",
    "import pickle\n",
    "\n",
    "with open('eigen.pkl', 'rb') as f:\n",
    "    X = pickle.load(f)"
   ]
  },
  {
   "cell_type": "code",
   "execution_count": 3,
   "id": "65cc8ee3",
   "metadata": {},
   "outputs": [
    {
     "data": {
      "image/png": "[encoded data removed]",
      "text/plain": [
       "<Figure size 432x288 with 1 Axes>"
      ]
     },
     "metadata": {
      "needs_background": "light"
     },
     "output_type": "display_data"
    }
   ],
   "source": [
    "plt.plot(X[:, 0], X[:, 1], 'x')\n",
    "plt.axis('equal')\n",
    "plt.show()"
   ]
  },
  {
   "cell_type": "code",
   "execution_count": 4,
   "id": "86e907fe",
   "metadata": {},
   "outputs": [
    {
     "name": "stdout",
     "output_type": "stream",
     "text": [
      "(50, 2)\n"
     ]
    }
   ],
   "source": [
    "print(X.shape)"
   ]
  },
  {
   "cell_type": "code",
   "execution_count": 10,
   "id": "06076450",
   "metadata": {},
   "outputs": [],
   "source": [
    "from sklearn.decomposition import PCA, TruncatedSVD\n",
    "pca = PCA(n_components=1).fit(X)\n",
    "\n",
    "X_pca = pca.transform(X)"
   ]
  },
  {
   "cell_type": "code",
   "execution_count": 6,
   "id": "c4bb863b",
   "metadata": {},
   "outputs": [
    {
     "data": {
      "text/plain": [
       "array([[5.28331909],\n",
       "       [3.84284422],\n",
       "       [5.88859559],\n",
       "       [8.07409089],\n",
       "       [4.16799935],\n",
       "       [3.8592636 ],\n",
       "       [4.17040423],\n",
       "       [3.86884344],\n",
       "       [5.65483844],\n",
       "       [3.16278418]])"
      ]
     },
     "execution_count": 6,
     "metadata": {},
     "output_type": "execute_result"
    }
   ],
   "source": [
    "X_pca[:10]"
   ]
  },
  {
   "cell_type": "code",
   "execution_count": 7,
   "id": "d23fdd20",
   "metadata": {},
   "outputs": [
    {
     "data": {
      "text/plain": [
       "array([[-3.        ,  1.1474225 ],\n",
       "       [-2.79591837,  2.91847142],\n",
       "       [-2.59183673, -0.05209246],\n",
       "       [-2.3877551 , -3.2127219 ],\n",
       "       [-2.18367347,  1.91180977],\n",
       "       [-1.97959184,  2.14358145],\n",
       "       [-1.7755102 ,  1.53225988],\n",
       "       [-1.57142857,  1.75427292],\n",
       "       [-1.36734694, -0.86299657],\n",
       "       [-1.16326531,  2.33830441]])"
      ]
     },
     "execution_count": 7,
     "metadata": {},
     "output_type": "execute_result"
    }
   ],
   "source": [
    "X[:10]"
   ]
  },
  {
   "cell_type": "markdown",
   "id": "dadc110b",
   "metadata": {},
   "source": [
    "### Обратное преобразование"
   ]
  },
  {
   "cell_type": "code",
   "execution_count": 8,
   "id": "98ea798d",
   "metadata": {},
   "outputs": [],
   "source": [
    "X_new = pca.inverse_transform(X_pca)"
   ]
  },
  {
   "cell_type": "code",
   "execution_count": 9,
   "id": "d740f225",
   "metadata": {},
   "outputs": [
    {
     "data": {
      "image/png": "[encoded data removed]",
      "text/plain": [
       "<Figure size 432x288 with 2 Axes>"
      ]
     },
     "metadata": {
      "needs_background": "light"
     },
     "output_type": "display_data"
    }
   ],
   "source": [
    "plt.figure(1)\n",
    "plt.subplot(211)\n",
    "plt.plot(X_new[:, 0], X_new[:, 1], 'x')\n",
    "\n",
    "plt.subplot(212)\n",
    "plt.plot(X[:, 0], X[:, 1], 'o')\n",
    "plt.show()"
   ]
  },
  {
   "cell_type": "markdown",
   "id": "b14a659a",
   "metadata": {},
   "source": [
    "# Алгоритм производит преобразование с потерей данных!"
   ]
  },
  {
   "cell_type": "markdown",
   "id": "1e1aa8df",
   "metadata": {},
   "source": [
    "Правила применения алгоритма:\n",
    "* если в данных много шума - применяем алгоритм PCA\n",
    "* если качество выросло - значит его можно применять для предобработки данных\n",
    "* если качество по RMSE упало - значит PCA убрал часть важной информации, применять его не нужно\n",
    "\n",
    "**Плохо работает с фичами в разном масштабе**"
   ]
  },
  {
   "cell_type": "markdown",
   "id": "27d634ef",
   "metadata": {},
   "source": [
    "# SVD-преобразование - singular value decompozition.\n",
    "Применяется к большим датасетам, с размерами выше 100 фичей.\n",
    "\n",
    "Суть метода состоит в том, что любую прямоугольную матрицу X размерности $m*n$ можно представить в виде произведения трёх матриц разной размерности (двух квадратных и прямоугольной в середние). Такое разложение одной матрицы на три называется сингулярным."
   ]
  },
  {
   "cell_type": "code",
   "execution_count": 11,
   "id": "9d9a8338",
   "metadata": {},
   "outputs": [
    {
     "data": {
      "image/png": "[encoded data removed]",
      "text/plain": [
       "<Figure size 432x288 with 1 Axes>"
      ]
     },
     "metadata": {
      "needs_background": "light"
     },
     "output_type": "display_data"
    }
   ],
   "source": [
    "plt.plot(X[:, 0], X[:, 1], 'x')\n",
    "plt.axis('equal')\n",
    "plt.show()"
   ]
  },
  {
   "cell_type": "code",
   "execution_count": 12,
   "id": "b8e49b8f",
   "metadata": {},
   "outputs": [],
   "source": [
    "svd_model = TruncatedSVD(n_components=1).fit(X)"
   ]
  },
  {
   "cell_type": "code",
   "execution_count": 13,
   "id": "1008d86a",
   "metadata": {},
   "outputs": [],
   "source": [
    "X_svd = svd_model.transform(X)"
   ]
  },
  {
   "cell_type": "code",
   "execution_count": 14,
   "id": "04b9716a",
   "metadata": {},
   "outputs": [],
   "source": [
    "X_svd_restored = svd_model.inverse_transform(X_svd)"
   ]
  },
  {
   "cell_type": "code",
   "execution_count": 15,
   "id": "22710375",
   "metadata": {},
   "outputs": [
    {
     "data": {
      "image/png": "[encoded data removed]",
      "text/plain": [
       "<Figure size 432x288 with 2 Axes>"
      ]
     },
     "metadata": {
      "needs_background": "light"
     },
     "output_type": "display_data"
    }
   ],
   "source": [
    "plt.figure(1)\n",
    "plt.subplot(211)\n",
    "plt.plot(X_svd_restored[:, 0], X_svd_restored[:, 1], 'x')\n",
    "\n",
    "plt.subplot(212)\n",
    "plt.plot(X[:, 0], X[:, 1], 'o')\n",
    "plt.show()"
   ]
  },
  {
   "cell_type": "markdown",
   "id": "16eef9a2",
   "metadata": {},
   "source": [
    "# Если быстро нужно снизить размерность (уменьшить количество фичей), стоит использовать SVD.\n",
    "\n",
    "# Если нужно убрать корреляцию между фичами, нужно использовать PCA"
   ]
  },
  {
   "cell_type": "code",
   "execution_count": null,
   "id": "14b4a99f",
   "metadata": {},
   "outputs": [],
   "source": []
  },
  {
   "cell_type": "code",
   "execution_count": null,
   "id": "e53052e1",
   "metadata": {},
   "outputs": [],
   "source": []
  },
  {
   "cell_type": "markdown",
   "id": "b15f5106",
   "metadata": {},
   "source": [
    "# Трансформация t-SNE\n",
    "Этот алгоритм нуже, если PCA плохо работает."
   ]
  },
  {
   "cell_type": "code",
   "execution_count": 18,
   "id": "14ba19d0",
   "metadata": {},
   "outputs": [],
   "source": [
    "import pandas as pd\n",
    "from sklearn.manifold import TSNE\n",
    "df_source = pd.read_csv('client_segmentation.csv')"
   ]
  },
  {
   "cell_type": "code",
   "execution_count": 20,
   "id": "dd1d67a7",
   "metadata": {},
   "outputs": [],
   "source": [
    "df_source.head()\n",
    "X = df_source[['call_diff', 'sms_diff', 'traffic_diff']].values\n",
    "y = df_source.customes_class.values"
   ]
  },
  {
   "cell_type": "code",
   "execution_count": 21,
   "id": "8ac404ec",
   "metadata": {},
   "outputs": [],
   "source": [
    "tsne_transformer = TSNE(n_components=2)\n",
    "\n",
    "x_tsne = tsne_transformer.fit_transform(X)"
   ]
  },
  {
   "cell_type": "code",
   "execution_count": 22,
   "id": "191300f4",
   "metadata": {},
   "outputs": [
    {
     "data": {
      "text/plain": [
       "array([[ 2.398123  ,  1.1358598 ],\n",
       "       [ 6.798633  ,  3.6281364 ],\n",
       "       [ 0.44836232,  0.4298366 ],\n",
       "       [ 1.6441963 , -5.2216644 ],\n",
       "       [ 6.379106  ,  5.1790476 ],\n",
       "       [ 0.4788809 , -1.4513017 ],\n",
       "       [ 2.5208993 , -4.8626094 ],\n",
       "       [ 5.7230597 ,  4.1575127 ],\n",
       "       [ 6.616244  ,  4.5202413 ],\n",
       "       [-2.1487696 , -0.63265175]], dtype=float32)"
      ]
     },
     "execution_count": 22,
     "metadata": {},
     "output_type": "execute_result"
    }
   ],
   "source": [
    "x_tsne[:10]"
   ]
  },
  {
   "cell_type": "code",
   "execution_count": null,
   "id": "651e6f10",
   "metadata": {},
   "outputs": [],
   "source": []
  }
 ],
 "metadata": {
  "kernelspec": {
   "display_name": "Python 3 (ipykernel)",
   "language": "python",
   "name": "python3"
  },
  "language_info": {
   "codemirror_mode": {
    "name": "ipython",
    "version": 3
   },
   "file_extension": ".py",
   "mimetype": "text/x-python",
   "name": "python",
   "nbconvert_exporter": "python",
   "pygments_lexer": "ipython3",
   "version": "3.9.6"
  }
 },
 "nbformat": 4,
 "nbformat_minor": 5
}
