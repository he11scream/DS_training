{
 "cells": [
  {
   "cell_type": "markdown",
   "id": "757f26e9",
   "metadata": {},
   "source": [
    "# Регуляризация и градиентный спуск / Regulation gradient descent"
   ]
  },
  {
   "cell_type": "markdown",
   "id": "2bcd11a2",
   "metadata": {},
   "source": [
    "#"
   ]
  },
  {
   "cell_type": "markdown",
   "id": "1e5d48b4",
   "metadata": {},
   "source": [
    "#"
   ]
  },
  {
   "cell_type": "markdown",
   "id": "598933b5",
   "metadata": {},
   "source": [
    "![](learn.jpg)"
   ]
  },
  {
   "cell_type": "markdown",
   "id": "339209ab",
   "metadata": {},
   "source": [
    "### Регулиризация - способ борьбы с переобучением \n",
    "### Переобучение - негативное явление, возникает тогда, когда модель переобучается на обучающей выборке и не может предсказывать новые объекты"
   ]
  },
  {
   "cell_type": "markdown",
   "id": "1c338859",
   "metadata": {},
   "source": [
    "## Как детектировать переобучение\n",
    "\n",
    "* Разбиваем обучающую выборку на 2 части: в одной части будут 80% примеров, а в другой 20%\n",
    "* Выбираем метрику качества модели (для регрессии, например, RMSE)\n",
    "* Обучаем модель на тренировочном моделе данных\n",
    "* Делаем предсказания на валидационном наборе данных и вычисляем метрику качества\n",
    "\n",
    "Признак переобучения: Если качество на валидации сильно хуже, чем качество на обучающем сете - модель переобучилась."
   ]
  },
  {
   "cell_type": "markdown",
   "id": "d3cb8b4b",
   "metadata": {},
   "source": [
    "В sklearn есть два класса, в которых реализована регуляризация:\n",
    "* sklearn.linear_model.Ridge\n",
    "* sklearn.linear_model.Lasso\n",
    "\n",
    "Ridge и Lasso принимают на вход т.н. параметр регуляризации alpha, который принимает значения от 0 до 1 - чем ближе к 1, тем регуляризация сильнее"
   ]
  },
  {
   "cell_type": "code",
   "execution_count": 2,
   "id": "6745e376",
   "metadata": {},
   "outputs": [
    {
     "data": {
      "text/html": [
       "<div>\n",
       "<style scoped>\n",
       "    .dataframe tbody tr th:only-of-type {\n",
       "        vertical-align: middle;\n",
       "    }\n",
       "\n",
       "    .dataframe tbody tr th {\n",
       "        vertical-align: top;\n",
       "    }\n",
       "\n",
       "    .dataframe thead th {\n",
       "        text-align: right;\n",
       "    }\n",
       "</style>\n",
       "<table border=\"1\" class=\"dataframe\">\n",
       "  <thead>\n",
       "    <tr style=\"text-align: right;\">\n",
       "      <th></th>\n",
       "      <th>x_train</th>\n",
       "      <th>y_train</th>\n",
       "    </tr>\n",
       "  </thead>\n",
       "  <tbody>\n",
       "    <tr>\n",
       "      <th>0</th>\n",
       "      <td>0.138368</td>\n",
       "      <td>0.838812</td>\n",
       "    </tr>\n",
       "    <tr>\n",
       "      <th>1</th>\n",
       "      <td>0.157237</td>\n",
       "      <td>0.889313</td>\n",
       "    </tr>\n",
       "    <tr>\n",
       "      <th>2</th>\n",
       "      <td>0.188684</td>\n",
       "      <td>1.430040</td>\n",
       "    </tr>\n",
       "    <tr>\n",
       "      <th>3</th>\n",
       "      <td>0.685553</td>\n",
       "      <td>1.717309</td>\n",
       "    </tr>\n",
       "    <tr>\n",
       "      <th>4</th>\n",
       "      <td>0.874237</td>\n",
       "      <td>2.032588</td>\n",
       "    </tr>\n",
       "  </tbody>\n",
       "</table>\n",
       "</div>"
      ],
      "text/plain": [
       "    x_train   y_train\n",
       "0  0.138368  0.838812\n",
       "1  0.157237  0.889313\n",
       "2  0.188684  1.430040\n",
       "3  0.685553  1.717309\n",
       "4  0.874237  2.032588"
      ]
     },
     "execution_count": 2,
     "metadata": {},
     "output_type": "execute_result"
    }
   ],
   "source": [
    "import pandas as pd\n",
    "import numpy as np\n",
    "import matplotlib.pyplot as plt\n",
    "\n",
    "data = pd.read_csv('3.10_non_linear.csv')\n",
    "data.head()"
   ]
  },
  {
   "cell_type": "code",
   "execution_count": 92,
   "id": "5f7f33ec",
   "metadata": {},
   "outputs": [],
   "source": [
    "from sklearn.model_selection import train_test_split\n",
    "from sklearn.linear_model import Ridge, Lasso\n",
    "from sklearn.metrics import mean_squared_error\n",
    "\n",
    "def generate_degrees(source_data: list, degree: int):\n",
    "    return np.array([source_data**n for n in range(1, degree+1)]).T"
   ]
  },
  {
   "cell_type": "code",
   "execution_count": 117,
   "id": "ac251ce9",
   "metadata": {},
   "outputs": [],
   "source": [
    "degree = 8\n",
    "X = generate_degrees(data['x_train'], degree)"
   ]
  },
  {
   "cell_type": "code",
   "execution_count": 118,
   "id": "10bff78b",
   "metadata": {},
   "outputs": [
    {
     "data": {
      "text/plain": [
       "(50, 8)"
      ]
     },
     "execution_count": 118,
     "metadata": {},
     "output_type": "execute_result"
    }
   ],
   "source": [
    "X.shape"
   ]
  },
  {
   "cell_type": "code",
   "execution_count": 119,
   "id": "fe355976",
   "metadata": {},
   "outputs": [],
   "source": [
    "y = data.y_train.values"
   ]
  },
  {
   "cell_type": "code",
   "execution_count": 120,
   "id": "d2e4a815",
   "metadata": {},
   "outputs": [
    {
     "data": {
      "text/plain": [
       "(50,)"
      ]
     },
     "execution_count": 120,
     "metadata": {},
     "output_type": "execute_result"
    }
   ],
   "source": [
    "y.shape"
   ]
  },
  {
   "cell_type": "code",
   "execution_count": 121,
   "id": "82c68797",
   "metadata": {},
   "outputs": [],
   "source": [
    "X_train, X_val, y_train, y_val = train_test_split(X, y, test_size=0.2, random_state=10)"
   ]
  },
  {
   "cell_type": "code",
   "execution_count": 122,
   "id": "82011473",
   "metadata": {},
   "outputs": [
    {
     "data": {
      "text/plain": [
       "(40, 8)"
      ]
     },
     "execution_count": 122,
     "metadata": {},
     "output_type": "execute_result"
    }
   ],
   "source": [
    "X_train.shape"
   ]
  },
  {
   "cell_type": "code",
   "execution_count": 123,
   "id": "94924f45",
   "metadata": {},
   "outputs": [
    {
     "name": "stderr",
     "output_type": "stream",
     "text": [
      "C:\\Users\\He11scream\\AppData\\Local\\Programs\\Python\\Python39\\lib\\site-packages\\sklearn\\linear_model\\_coordinate_descent.py:631: ConvergenceWarning: Objective did not converge. You might want to increase the number of iterations, check the scale of the features or consider increasing regularisation. Duality gap: 3.713e+00, tolerance: 2.448e-03\n",
      "  model = cd_fast.enet_coordinate_descent(\n"
     ]
    }
   ],
   "source": [
    "model = Lasso(alpha=0.8).fit(X_train, y_train)"
   ]
  },
  {
   "cell_type": "code",
   "execution_count": 124,
   "id": "40f9cb74",
   "metadata": {},
   "outputs": [],
   "source": [
    "y_pred = model.predict(X_val)\n",
    "y_pred_train = model.predict(X_train)"
   ]
  },
  {
   "cell_type": "code",
   "execution_count": 125,
   "id": "60b58e37",
   "metadata": {},
   "outputs": [
    {
     "name": "stdout",
     "output_type": "stream",
     "text": [
      "Качество на валидации 0.093\n",
      "Качество на обучении 0.155\n"
     ]
    }
   ],
   "source": [
    "print(\"Качество на валидации %.3f\" %mean_squared_error(y_val, y_pred))\n",
    "print(\"Качество на обучении %.3f\" %mean_squared_error(y_train, y_pred_train))"
   ]
  },
  {
   "cell_type": "code",
   "execution_count": null,
   "id": "05bcb6fa",
   "metadata": {},
   "outputs": [],
   "source": []
  }
 ],
 "metadata": {
  "kernelspec": {
   "display_name": "Python 3 (ipykernel)",
   "language": "python",
   "name": "python3"
  },
  "language_info": {
   "codemirror_mode": {
    "name": "ipython",
    "version": 3
   },
   "file_extension": ".py",
   "mimetype": "text/x-python",
   "name": "python",
   "nbconvert_exporter": "python",
   "pygments_lexer": "ipython3",
   "version": "3.9.6"
  }
 },
 "nbformat": 4,
 "nbformat_minor": 5
}
