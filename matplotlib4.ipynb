{
 "cells": [
  {
   "cell_type": "markdown",
   "id": "9987b8f9",
   "metadata": {},
   "source": [
    "## Создание анимации"
   ]
  },
  {
   "cell_type": "code",
   "execution_count": 8,
   "id": "f88d884c",
   "metadata": {},
   "outputs": [
    {
     "name": "stdout",
     "output_type": "stream",
     "text": [
      "Using matplotlib backend: TkAgg\n"
     ]
    }
   ],
   "source": [
    "import numpy as np\n",
    "import matplotlib.pyplot as plt\n",
    "import time\n",
    "%matplotlib\n",
    "x = np.arange(-2*np.pi, 2*np.pi, 0.1)\n",
    "#включить интерактивный режим отображения графиков\n",
    "for delay in np.arange(0, np.pi, 0.1):\n",
    "    y = np.cos(x+delay)\n",
    "    \n",
    "    #очищаем экран от предыдущего графика\n",
    "    plt.clf()\n",
    "    plt.plot(x, y)\n",
    "    \n",
    "    #технические операторы\n",
    "    plt.draw()\n",
    "    plt.gcf().canvas.flush_events()\n",
    "    \n",
    "    #задержка анимации\n",
    "    time.sleep(0.2)\n",
    "    \n",
    "#сначала отключается интерактивный режим\n",
    "plt.ioff()\n",
    "#отрисовка вне цикла\n",
    "plt.show()"
   ]
  },
  {
   "cell_type": "markdown",
   "id": "16eb82d2",
   "metadata": {},
   "source": [
    "## Более быстрый вариант отрисовки"
   ]
  },
  {
   "cell_type": "code",
   "execution_count": 11,
   "id": "2564f519",
   "metadata": {},
   "outputs": [],
   "source": [
    "plt.ion()\n",
    "fig, ax = plt.subplots()\n",
    "x = np.arange(-2*np.pi, 2*np.pi, 0.1)\n",
    "y = np.cos(x)\n",
    "#запятая это ссылка на объект\n",
    "line, = ax.plot(x, y)\n",
    "for delay in np.arange(0, np.pi, 0.1):\n",
    "    y = np.cos(x+delay)\n",
    "    \n",
    "    #вместо очистки окна\n",
    "    line.set_ydata(y)\n",
    "    \n",
    "    #технические операторы\n",
    "    plt.draw()\n",
    "    plt.gcf().canvas.flush_events()\n",
    "    \n",
    "    #задержка анимации\n",
    "    time.sleep(0.2)\n",
    "    \n",
    "#сначала отключается интерактивный режим\n",
    "plt.ioff()\n",
    "#отрисовка вне цикла\n",
    "plt.show()"
   ]
  },
  {
   "cell_type": "markdown",
   "id": "ab5de85f",
   "metadata": {},
   "source": [
    "## Создание анимации с помощью классов FuncAnimation и ArtistAnimation\n",
    "* FuncAnimation - создание анимации на основе функции\n",
    "* ArtistAnimation - создание покадровой анимации"
   ]
  },
  {
   "cell_type": "code",
   "execution_count": 15,
   "id": "f0aeb3d1",
   "metadata": {},
   "outputs": [],
   "source": [
    "#сначала импортируем класс\n",
    "from matplotlib.animation import FuncAnimation\n",
    "fig, ax = plt.subplots()\n",
    "x = np.arange(-2*np.pi, 2*np.pi, 0.1)\n",
    "y = np.cos(x)\n",
    "#запятая это ссылка на объект\n",
    "line, = ax.plot(x, y)\n",
    "\n",
    "def update_cos(frame, line, x):\n",
    "    #frame - параметр, который меняется от кадра к кадру\n",
    "    #в данном случае это начальная фаза (угол)\n",
    "    #line - ссылка на объект Line2D\n",
    "    line.set_ydata(np.cos(x+frame))\n",
    "    return [line]\n",
    "\n",
    "#угол на который меняется синусоида\n",
    "phasa = np.arange(0, 4*np.pi, 0.1)\n",
    "\n",
    "#создаём экземпляр класса анимации\n",
    "animation = FuncAnimation(\n",
    "    fig,              #фигура, где отображается анимация\n",
    "    func=update_cos,  #функция обновления текущего кадра\n",
    "    frames=phasa,     #параметр, меняющийся от кадра к кадру\n",
    "    fargs=(line, x),  #дополнительные параметры для функции update_cos\n",
    "    interval=30,      #задержка между кадрами в мс\n",
    "    blit=True,        #использовать ли двойную буферизацию\n",
    "    repeat=True)     #зацикливать анимацию\n",
    "\n",
    "#отрисовка вне цикла\n",
    "plt.show()"
   ]
  },
  {
   "cell_type": "markdown",
   "id": "3fc0189d",
   "metadata": {},
   "source": [
    "## Создание покадровой анимации"
   ]
  },
  {
   "cell_type": "code",
   "execution_count": null,
   "id": "9ebf9dc9",
   "metadata": {},
   "outputs": [],
   "source": []
  }
 ],
 "metadata": {
  "kernelspec": {
   "display_name": "Python 3 (ipykernel)",
   "language": "python",
   "name": "python3"
  },
  "language_info": {
   "codemirror_mode": {
    "name": "ipython",
    "version": 3
   },
   "file_extension": ".py",
   "mimetype": "text/x-python",
   "name": "python",
   "nbconvert_exporter": "python",
   "pygments_lexer": "ipython3",
   "version": "3.9.6"
  }
 },
 "nbformat": 4,
 "nbformat_minor": 5
}
