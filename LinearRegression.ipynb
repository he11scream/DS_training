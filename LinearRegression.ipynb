{
 "cells": [
  {
   "cell_type": "markdown",
   "id": "cc96a050",
   "metadata": {},
   "source": [
    "# Линейная регрессия (Linear Regression)"
   ]
  },
  {
   "cell_type": "markdown",
   "id": "0e9354dd",
   "metadata": {},
   "source": [
    "### Регрессия - усреднение "
   ]
  },
  {
   "cell_type": "markdown",
   "id": "a1a45567",
   "metadata": {},
   "source": [
    "### Формула линейной регрессии y^(с крышкой) = a * x + b\n",
    "* y - цена дома, которая нам известна\n",
    "* x - площадь дома\n",
    "* a - коэффицент, на который умножается площадь\n",
    "* b - коэффицент, который называется свободным членом"
   ]
  },
  {
   "cell_type": "markdown",
   "id": "370d1cbe",
   "metadata": {},
   "source": [
    "Величина y^ называется прогнозом линейной регрессии"
   ]
  },
  {
   "cell_type": "markdown",
   "id": "0d1a19b4",
   "metadata": {},
   "source": [
    "### Суть линейной регрессии как раз в том, чтобы определить наилучшие коэффиценты, чтобы все уравнения решились"
   ]
  },
  {
   "cell_type": "code",
   "execution_count": 3,
   "id": "1007477e",
   "metadata": {},
   "outputs": [
    {
     "data": {
      "image/png": "[encoded data removed]",
      "text/plain": [
       "<Figure size 432x288 with 1 Axes>"
      ]
     },
     "metadata": {
      "needs_background": "light"
     },
     "output_type": "display_data"
    }
   ],
   "source": [
    "import matplotlib.pyplot as plt\n",
    "%matplotlib inline\n",
    "plt.scatter([50, 60, 70, 100], [10, 30, 40, 50], 40, 'g', '*', alpha=0.8)\n",
    "plt.show()"
   ]
  },
  {
   "cell_type": "code",
   "execution_count": 4,
   "id": "67a3624e",
   "metadata": {},
   "outputs": [
    {
     "data": {
      "text/plain": [
       "array([[  1,  50],\n",
       "       [  1,  60],\n",
       "       [  1,  70],\n",
       "       [  1, 100]])"
      ]
     },
     "execution_count": 4,
     "metadata": {},
     "output_type": "execute_result"
    }
   ],
   "source": [
    "import numpy as np\n",
    "\n",
    "X = np.array([[1, 50], [1, 60], [1, 70], [1, 100]])\n",
    "X"
   ]
  },
  {
   "cell_type": "code",
   "execution_count": 5,
   "id": "0b53dbe5",
   "metadata": {},
   "outputs": [
    {
     "data": {
      "text/plain": [
       "array([[10],\n",
       "       [30],\n",
       "       [40],\n",
       "       [50]])"
      ]
     },
     "execution_count": 5,
     "metadata": {},
     "output_type": "execute_result"
    }
   ],
   "source": [
    "Y = np.array([[10], [30], [40], [50]])\n",
    "Y"
   ]
  },
  {
   "cell_type": "code",
   "execution_count": 6,
   "id": "4c734dce",
   "metadata": {},
   "outputs": [
    {
     "data": {
      "text/plain": [
       "array([[    4,   280],\n",
       "       [  280, 21000]])"
      ]
     },
     "execution_count": 6,
     "metadata": {},
     "output_type": "execute_result"
    }
   ],
   "source": [
    "X_T_X = (X.T).dot(X)\n",
    "X_T_X"
   ]
  },
  {
   "cell_type": "code",
   "execution_count": 7,
   "id": "cc1bfc18",
   "metadata": {},
   "outputs": [
    {
     "data": {
      "text/plain": [
       "array([[ 3.75000000e+00, -5.00000000e-02],\n",
       "       [-5.00000000e-02,  7.14285714e-04]])"
      ]
     },
     "execution_count": 7,
     "metadata": {},
     "output_type": "execute_result"
    }
   ],
   "source": [
    "from numpy.linalg import inv\n",
    "X_T_X_inverted = inv(X_T_X)\n",
    "X_T_X_inverted"
   ]
  },
  {
   "cell_type": "code",
   "execution_count": 9,
   "id": "695be11b",
   "metadata": {},
   "outputs": [
    {
     "name": "stdout",
     "output_type": "stream",
     "text": [
      "w_1=-17.50000, w_2=0.714\n"
     ]
    }
   ],
   "source": [
    "w = X_T_X_inverted.dot(X.T).dot(Y)\n",
    "print(\"w_1=%.5f, w_2=%.3f\" % (w[0][0], w[1][0]))"
   ]
  },
  {
   "cell_type": "markdown",
   "id": "8aaadf5f",
   "metadata": {},
   "source": [
    "## Наш набор точек, можно описать по формуле\n",
    "### y = 17.5 + 0.714 * x"
   ]
  },
  {
   "cell_type": "markdown",
   "id": "f3bc64a7",
   "metadata": {},
   "source": [
    "# Метрики качества линейной регрессии"
   ]
  },
  {
   "cell_type": "markdown",
   "id": "6d03fc62",
   "metadata": {},
   "source": [
    "## MAE - Mean absolute error - Средняя абсолютная ошибка"
   ]
  },
  {
   "cell_type": "markdown",
   "id": "13a77193",
   "metadata": {},
   "source": [
    "from sklearn.metrics import mean_absolute_error\n",
    "\n",
    "print(\"MAE = %s\" % mean_absolute_error(reg.predict(features), y))\n",
    "#### Это сумма модулей из истинного значения минус прогноз на количество предсказаний"
   ]
  },
  {
   "cell_type": "markdown",
   "id": "09cb2e68",
   "metadata": {},
   "source": [
    "### RMSE - Root Mean Square Error - Среднеквадратическое отклонение\n",
    "\n",
    "from sklearn.metrics import mean_squared_error\n",
    "\n",
    "rmse = mean_squared_error(y_true, y_pred)\n",
    "\n",
    "print('RMSE = %s' %rmse\n",
    "\n",
    "RMSE сильнее штрафует за ошибки, чем MAE. RMSE лучше применять, когда есть уверенность, что в данных нет выбросов."
   ]
  },
  {
   "cell_type": "markdown",
   "id": "760f2f5b",
   "metadata": {},
   "source": [
    "### R^2 (Коэффицент детерминации)"
   ]
  },
  {
   "cell_type": "markdown",
   "id": "d785581d",
   "metadata": {},
   "source": [
    "Основная особенность - наилучшее значение 1, а не 0 как у MAE и RMSE. Чем выше - тем лучше. Если этот коэффицент близок к 1\n",
    "\n",
    "то условная дисперсия модели (то есть разброс предсказаний модели относительно разброса самой целевой переменной)\n",
    "\n",
    "достаточно мала - то есть модель неплохо описывает данные. Коэффицент может быть даже отрицательным - это означает\n",
    "\n",
    "что модель совсем уж плоха.\n",
    "\n",
    "Эта метрика хороша тем, что она нормализирована, то есть не превышает единицу. Удобно сравнивать разные модели."
   ]
  },
  {
   "cell_type": "markdown",
   "id": "b2901030",
   "metadata": {},
   "source": [
    "from sklearn.metrics import r2_score\n",
    "\n",
    "print(\"r2_score = %s\" % r2_score(y_true, y_pred))"
   ]
  },
  {
   "cell_type": "markdown",
   "id": "e7c560c8",
   "metadata": {},
   "source": [
    "# Трансформация входных данных для линейной регрессии"
   ]
  },
  {
   "cell_type": "markdown",
   "id": "beb9d99b",
   "metadata": {},
   "source": [
    "В алгоритмах машинного обучения и анализа данных часто встречаются требования к входным данным\n",
    "* распределение данных (имеется в виду вероятностное распределение - например, гауссовское или пуассоновское)\n",
    "* масштаб данных"
   ]
  },
  {
   "cell_type": "markdown",
   "id": "72e4feea",
   "metadata": {},
   "source": [
    "Важно: трансформация может применяться как к фичам, так и к целевым переменным"
   ]
  },
  {
   "cell_type": "markdown",
   "id": "5df63ae7",
   "metadata": {},
   "source": [
    "В задачах линейной регрессии такие трансформации особенно важны - чтобы линейная регрессия хорошо работала должны выполняться следующие требования:  \n",
    "* остатки регрессии должны иметь нормальное (гауссово) распределение (это можно проверить построив гистограмму через matplotlib)\n",
    "* все фичи должны быть примерно в одном масштабе"
   ]
  },
  {
   "cell_type": "markdown",
   "id": "19649d36",
   "metadata": {},
   "source": [
    "При подготовке применяются следующие приёмы:\n",
    "* масштрабирование \n",
    "* нормализация"
   ]
  },
  {
   "cell_type": "code",
   "execution_count": 13,
   "id": "f8904c58",
   "metadata": {},
   "outputs": [
    {
     "data": {
      "image/png": "[encoded data removed]",
      "text/plain": [
       "<Figure size 432x288 with 1 Axes>"
      ]
     },
     "metadata": {
      "needs_background": "light"
     },
     "output_type": "display_data"
    }
   ],
   "source": [
    "import numpy as np\n",
    "import matplotlib.pyplot as plt\n",
    "\n",
    "%matplotlib inline\n",
    "\n",
    "x = np.linspace(1, 10, num=10).reshape(-1, 1)\n",
    "y = [1.5, 2.5, 3, 4.5, 12, 6.7, 7, 8.5, 14, 7]\n",
    "\n",
    "plt.scatter(x, y)\n",
    "plt.show()"
   ]
  },
  {
   "cell_type": "markdown",
   "id": "fea3754a",
   "metadata": {},
   "source": [
    "## Применим линейную регрессию "
   ]
  },
  {
   "cell_type": "code",
   "execution_count": 14,
   "id": "83e5bf90",
   "metadata": {},
   "outputs": [
    {
     "name": "stdout",
     "output_type": "stream",
     "text": [
      "0.5221932366140851\n"
     ]
    }
   ],
   "source": [
    "from sklearn.linear_model import LinearRegression\n",
    "from sklearn.metrics import r2_score\n",
    "\n",
    "reg = LinearRegression().fit(x, y)\n",
    "y_pred = reg.predict(x)\n",
    "\n",
    "print(r2_score(y, y_pred))"
   ]
  },
  {
   "cell_type": "markdown",
   "id": "a48a2408",
   "metadata": {},
   "source": [
    "## Логарифмирование\n",
    "Теперь трансформируем наши точки с помощью функции логарифмирования .log()"
   ]
  },
  {
   "cell_type": "code",
   "execution_count": 15,
   "id": "fecec550",
   "metadata": {},
   "outputs": [
    {
     "data": {
      "image/png": "[encoded data removed]",
      "text/plain": [
       "<Figure size 432x288 with 1 Axes>"
      ]
     },
     "metadata": {
      "needs_background": "light"
     },
     "output_type": "display_data"
    }
   ],
   "source": [
    "y_transformed = np.log(y)\n",
    "\n",
    "plt.scatter(x, y_transformed)\n",
    "plt.show()"
   ]
  },
  {
   "cell_type": "markdown",
   "id": "0b1240db",
   "metadata": {},
   "source": [
    "reg = LinearRegression().fit(x, y_transformed)\n",
    "y_pred = reg.predict(x)\n",
    "print(r2_score(y_transformed, y_pred))"
   ]
  },
  {
   "cell_type": "markdown",
   "id": "b7e71734",
   "metadata": {},
   "source": [
    "#### Логарифмирование улучшило прогноз модели"
   ]
  },
  {
   "cell_type": "markdown",
   "id": "11375c5d",
   "metadata": {},
   "source": [
    "Для борьбы с большими по модулю значениями, которые являются выбросами обычно используют:\n",
    "* логарифмирование np.log\n",
    "* извлечение квадратного корня np.sqrt\n",
    "\n",
    "Оба эти преобразования являются монотонными, т.е. они меняют абсолютные значения, но сохраняют порядок величин.\n",
    "\n",
    "Пример немонотонного преобразования для величины x - функция sin x. В задачах линейной регрессии не применяются, \n",
    "\n",
    "но применяются в задачах по анализу временных рядов"
   ]
  },
  {
   "cell_type": "markdown",
   "id": "a7ea502a",
   "metadata": {},
   "source": [
    "## Z-Score \n",
    "\n",
    "Метод Standart Scaling или Z-score normalization. Это преобразование позволяет \"сгладить\" данные, избавить их от выбросов."
   ]
  },
  {
   "cell_type": "code",
   "execution_count": 19,
   "id": "fc6bc060",
   "metadata": {},
   "outputs": [],
   "source": [
    "import numpy as np\n",
    "import pandas as pd\n",
    "from sklearn.preprocessing import StandardScaler\n"
   ]
  },
  {
   "cell_type": "code",
   "execution_count": 21,
   "id": "48f488dc",
   "metadata": {},
   "outputs": [
    {
     "name": "stdout",
     "output_type": "stream",
     "text": [
      "Сырой датасет: [ 1.  3.  2.  4.  2. 10.]\n",
      "z-transform датасет: [-0.7986022  -0.4497874  -0.6241948  -0.27538007 -0.6241948   0.7710641 ]\n"
     ]
    }
   ],
   "source": [
    "raw_data = np.array([1., 3., 2., 4., 2., 10., 2.,5.,2.,2.,1.,7.,5.,2.,5.,16.,10.,3.,24.], dtype=np.float32)\n",
    "print(\"Сырой датасет: %s\" %raw_data[:6])\n",
    "transformed_data = StandardScaler().fit_transform(raw_data.reshape(-1, 1)).reshape(-1)\n",
    "print(\"z-transform датасет: %s\" % transformed_data[:6])"
   ]
  },
  {
   "cell_type": "markdown",
   "id": "60cb460b",
   "metadata": {},
   "source": [
    "## min-max normalization\n",
    "Другой распространённый метод называется MinMax Scaling. Это метод переносит все точки на отрезок [0-1]"
   ]
  },
  {
   "cell_type": "code",
   "execution_count": 22,
   "id": "9ec4b18e",
   "metadata": {},
   "outputs": [],
   "source": [
    "from sklearn.preprocessing import MinMaxScaler"
   ]
  },
  {
   "cell_type": "code",
   "execution_count": 23,
   "id": "a1424fa1",
   "metadata": {},
   "outputs": [
    {
     "name": "stdout",
     "output_type": "stream",
     "text": [
      "Сырой датасет: [ 1.  3.  2.  4.  2. 10.]\n",
      "Min-Max scale датасет: [0.         0.08695652 0.04347826 0.13043478 0.04347826 0.39130437]\n"
     ]
    }
   ],
   "source": [
    "print(\"Сырой датасет: %s\" %raw_data[:6])\n",
    "transformed_data = MinMaxScaler().fit_transform(raw_data.reshape(-1, 1)).reshape(-1)\n",
    "print(\"Min-Max scale датасет: %s\" % transformed_data[:6])"
   ]
  },
  {
   "cell_type": "markdown",
   "id": "f2088d7f",
   "metadata": {},
   "source": [
    "## Алгоритм действий при применении линейной регрессии\n",
    "* построить модель\n",
    "* вычислить метрику качества\n",
    "* выполнить преобразование\n",
    "* снова вычислить метрику качества\n",
    "* если метрика качества выросла - применять найденную трансформацию ко входным данным перед тем, как подавать на вход модели"
   ]
  },
  {
   "cell_type": "markdown",
   "id": "5745b6d0",
   "metadata": {},
   "source": [
    "# Полиномиальная регрессия"
   ]
  },
  {
   "cell_type": "code",
   "execution_count": 24,
   "id": "8cb43aa8",
   "metadata": {},
   "outputs": [],
   "source": [
    "import matplotlib.pyplot as plt\n",
    "%matplotlib inline"
   ]
  },
  {
   "cell_type": "code",
   "execution_count": 25,
   "id": "fdd0bf71",
   "metadata": {},
   "outputs": [],
   "source": [
    "x = np.linspace(-10, 10, num=100)"
   ]
  },
  {
   "cell_type": "code",
   "execution_count": 32,
   "id": "ca632334",
   "metadata": {},
   "outputs": [
    {
     "data": {
      "image/png": "[encoded data removed]",
      "text/plain": [
       "<Figure size 432x288 with 1 Axes>"
      ]
     },
     "metadata": {
      "needs_background": "light"
     },
     "output_type": "display_data"
    }
   ],
   "source": [
    "y = x\n",
    "plt.plot(x, y)\n",
    "plt.show()"
   ]
  },
  {
   "cell_type": "code",
   "execution_count": 34,
   "id": "e51bf792",
   "metadata": {},
   "outputs": [
    {
     "data": {
      "image/png": "[encoded data removed]",
      "text/plain": [
       "<Figure size 432x288 with 1 Axes>"
      ]
     },
     "metadata": {
      "needs_background": "light"
     },
     "output_type": "display_data"
    }
   ],
   "source": [
    "plt.plot(x, y**2)\n",
    "plt.show()"
   ]
  },
  {
   "cell_type": "code",
   "execution_count": 35,
   "id": "d391237a",
   "metadata": {},
   "outputs": [
    {
     "data": {
      "image/png": "[encoded data removed]",
      "text/plain": [
       "<Figure size 432x288 with 1 Axes>"
      ]
     },
     "metadata": {
      "needs_background": "light"
     },
     "output_type": "display_data"
    }
   ],
   "source": [
    "plt.plot(x, y**3)\n",
    "plt.show()"
   ]
  },
  {
   "cell_type": "code",
   "execution_count": 4,
   "id": "0f6379e1",
   "metadata": {},
   "outputs": [],
   "source": [
    "import pandas as pd\n",
    "import matplotlib.pyplot as plt\n",
    "import numpy as np\n",
    "%matplotlib inline\n",
    "data = pd.read_csv('3.10_non_linear.csv')"
   ]
  },
  {
   "cell_type": "code",
   "execution_count": 5,
   "id": "9751df3c",
   "metadata": {},
   "outputs": [
    {
     "data": {
      "text/html": [
       "<div>\n",
       "<style scoped>\n",
       "    .dataframe tbody tr th:only-of-type {\n",
       "        vertical-align: middle;\n",
       "    }\n",
       "\n",
       "    .dataframe tbody tr th {\n",
       "        vertical-align: top;\n",
       "    }\n",
       "\n",
       "    .dataframe thead th {\n",
       "        text-align: right;\n",
       "    }\n",
       "</style>\n",
       "<table border=\"1\" class=\"dataframe\">\n",
       "  <thead>\n",
       "    <tr style=\"text-align: right;\">\n",
       "      <th></th>\n",
       "      <th>x_train</th>\n",
       "      <th>y_train</th>\n",
       "    </tr>\n",
       "  </thead>\n",
       "  <tbody>\n",
       "    <tr>\n",
       "      <th>0</th>\n",
       "      <td>0.138368</td>\n",
       "      <td>0.838812</td>\n",
       "    </tr>\n",
       "    <tr>\n",
       "      <th>1</th>\n",
       "      <td>0.157237</td>\n",
       "      <td>0.889313</td>\n",
       "    </tr>\n",
       "    <tr>\n",
       "      <th>2</th>\n",
       "      <td>0.188684</td>\n",
       "      <td>1.430040</td>\n",
       "    </tr>\n",
       "    <tr>\n",
       "      <th>3</th>\n",
       "      <td>0.685553</td>\n",
       "      <td>1.717309</td>\n",
       "    </tr>\n",
       "    <tr>\n",
       "      <th>4</th>\n",
       "      <td>0.874237</td>\n",
       "      <td>2.032588</td>\n",
       "    </tr>\n",
       "  </tbody>\n",
       "</table>\n",
       "</div>"
      ],
      "text/plain": [
       "    x_train   y_train\n",
       "0  0.138368  0.838812\n",
       "1  0.157237  0.889313\n",
       "2  0.188684  1.430040\n",
       "3  0.685553  1.717309\n",
       "4  0.874237  2.032588"
      ]
     },
     "execution_count": 5,
     "metadata": {},
     "output_type": "execute_result"
    }
   ],
   "source": [
    "data.head()"
   ]
  },
  {
   "cell_type": "code",
   "execution_count": 7,
   "id": "7b4dd774",
   "metadata": {},
   "outputs": [
    {
     "data": {
      "image/png": "[encoded data removed]",
      "text/plain": [
       "<Figure size 432x288 with 1 Axes>"
      ]
     },
     "metadata": {
      "needs_background": "light"
     },
     "output_type": "display_data"
    }
   ],
   "source": [
    "plt.plot(data['x_train'], data['y_train'])\n",
    "plt.show()"
   ]
  },
  {
   "cell_type": "code",
   "execution_count": 8,
   "id": "6390ebe2",
   "metadata": {},
   "outputs": [
    {
     "data": {
      "text/plain": [
       "<matplotlib.collections.PathCollection at 0x1bb5213e370>"
      ]
     },
     "execution_count": 8,
     "metadata": {},
     "output_type": "execute_result"
    },
    {
     "data": {
      "image/png": "[encoded data removed]",
      "text/plain": [
       "<Figure size 432x288 with 1 Axes>"
      ]
     },
     "metadata": {
      "needs_background": "light"
     },
     "output_type": "display_data"
    }
   ],
   "source": [
    "margin = 0.3\n",
    "plt.scatter(data.x_train, data.y_train, 40, 'g', '*', alpha=0.8, label='data')"
   ]
  },
  {
   "cell_type": "code",
   "execution_count": 9,
   "id": "3e090f6c",
   "metadata": {},
   "outputs": [],
   "source": [
    "from sklearn.linear_model import LinearRegression\n",
    "reg = LinearRegression().fit(data[['x_train']], data.y_train)\n",
    "y_hat = reg.predict(data[['x_train']])"
   ]
  },
  {
   "cell_type": "code",
   "execution_count": 10,
   "id": "b079ab05",
   "metadata": {},
   "outputs": [
    {
     "data": {
      "image/png": "[encoded data removed]",
      "text/plain": [
       "<Figure size 432x288 with 1 Axes>"
      ]
     },
     "metadata": {
      "needs_background": "light"
     },
     "output_type": "display_data"
    }
   ],
   "source": [
    "plt.scatter(data.x_train, data.y_train, 40, 'g', '*', alpha=0.8, label='data')\n",
    "plt.plot(data.x_train, y_hat)\n",
    "plt.show()"
   ]
  },
  {
   "cell_type": "code",
   "execution_count": 11,
   "id": "96c9a304",
   "metadata": {},
   "outputs": [],
   "source": [
    "#Функция принимает на вход одномерный массив и степень, а возвращает n-мерный\n",
    "def generate_degrees(source_data: list, degree: int):\n",
    "    return np.array([source_data**n for n in range(1, degree + 1)]).T"
   ]
  },
  {
   "cell_type": "code",
   "execution_count": 13,
   "id": "a36ff537",
   "metadata": {},
   "outputs": [],
   "source": [
    "X = generate_degrees(data.x_train, 5)"
   ]
  },
  {
   "cell_type": "code",
   "execution_count": 15,
   "id": "cfad02bd",
   "metadata": {},
   "outputs": [
    {
     "data": {
      "text/plain": [
       "(50, 5)"
      ]
     },
     "execution_count": 15,
     "metadata": {},
     "output_type": "execute_result"
    }
   ],
   "source": [
    "X.shape"
   ]
  },
  {
   "cell_type": "code",
   "execution_count": 18,
   "id": "e3dd29df",
   "metadata": {},
   "outputs": [],
   "source": [
    "from sklearn.metrics import mean_squared_error\n",
    "\n",
    "def train_polynomial(degree, data):\n",
    "    X = generate_degrees(data['x_train'], 5)\n",
    "    model = LinearRegression().fit(X, data.y_train)\n",
    "    y_pred = model.predict(X)\n",
    "    error = mean_squared_error(data.y_train, y_pred)\n",
    "    print(\"Степень полинома %d Ошибка %.3f\" % (degree, error))\n",
    "    plt.scatter(data.x_train, data.y_train, 40, 'g', 'o', alpha=0.8, label='data')\n",
    "    plt.plot(data.x_train, y_pred)\n",
    "    plt.show()"
   ]
  },
  {
   "cell_type": "code",
   "execution_count": 19,
   "id": "9861b99e",
   "metadata": {},
   "outputs": [
    {
     "ename": "IndexError",
     "evalue": "only integers, slices (`:`), ellipsis (`...`), numpy.newaxis (`None`) and integer or boolean arrays are valid indices",
     "output_type": "error",
     "traceback": [
      "\u001b[1;31m---------------------------------------------------------------------------\u001b[0m",
      "\u001b[1;31mIndexError\u001b[0m                                Traceback (most recent call last)",
      "\u001b[1;32m~\\AppData\\Local\\Temp\\ipykernel_8504\\1509281777.py\u001b[0m in \u001b[0;36m<module>\u001b[1;34m\u001b[0m\n\u001b[1;32m----> 1\u001b[1;33m \u001b[0mq\u001b[0m \u001b[1;33m=\u001b[0m \u001b[0mtrain_polynomial\u001b[0m\u001b[1;33m(\u001b[0m\u001b[1;36m5\u001b[0m\u001b[1;33m,\u001b[0m \u001b[0mX\u001b[0m\u001b[1;33m)\u001b[0m\u001b[1;33m\u001b[0m\u001b[1;33m\u001b[0m\u001b[0m\n\u001b[0m",
      "\u001b[1;32m~\\AppData\\Local\\Temp\\ipykernel_8504\\3387710927.py\u001b[0m in \u001b[0;36mtrain_polynomial\u001b[1;34m(degree, data)\u001b[0m\n\u001b[0;32m      2\u001b[0m \u001b[1;33m\u001b[0m\u001b[0m\n\u001b[0;32m      3\u001b[0m \u001b[1;32mdef\u001b[0m \u001b[0mtrain_polynomial\u001b[0m\u001b[1;33m(\u001b[0m\u001b[0mdegree\u001b[0m\u001b[1;33m,\u001b[0m \u001b[0mdata\u001b[0m\u001b[1;33m)\u001b[0m\u001b[1;33m:\u001b[0m\u001b[1;33m\u001b[0m\u001b[1;33m\u001b[0m\u001b[0m\n\u001b[1;32m----> 4\u001b[1;33m     \u001b[0mX\u001b[0m \u001b[1;33m=\u001b[0m \u001b[0mgenerate_degrees\u001b[0m\u001b[1;33m(\u001b[0m\u001b[0mdata\u001b[0m\u001b[1;33m[\u001b[0m\u001b[1;34m'x_train'\u001b[0m\u001b[1;33m]\u001b[0m\u001b[1;33m,\u001b[0m \u001b[1;36m5\u001b[0m\u001b[1;33m)\u001b[0m\u001b[1;33m\u001b[0m\u001b[1;33m\u001b[0m\u001b[0m\n\u001b[0m\u001b[0;32m      5\u001b[0m     \u001b[0mmodel\u001b[0m \u001b[1;33m=\u001b[0m \u001b[0mLinearRegression\u001b[0m\u001b[1;33m(\u001b[0m\u001b[1;33m)\u001b[0m\u001b[1;33m.\u001b[0m\u001b[0mfit\u001b[0m\u001b[1;33m(\u001b[0m\u001b[0mX\u001b[0m\u001b[1;33m,\u001b[0m \u001b[0mdata\u001b[0m\u001b[1;33m.\u001b[0m\u001b[0my_train\u001b[0m\u001b[1;33m)\u001b[0m\u001b[1;33m\u001b[0m\u001b[1;33m\u001b[0m\u001b[0m\n\u001b[0;32m      6\u001b[0m     \u001b[0my_pred\u001b[0m \u001b[1;33m=\u001b[0m \u001b[0mmodel\u001b[0m\u001b[1;33m.\u001b[0m\u001b[0mpredict\u001b[0m\u001b[1;33m(\u001b[0m\u001b[0mX\u001b[0m\u001b[1;33m)\u001b[0m\u001b[1;33m\u001b[0m\u001b[1;33m\u001b[0m\u001b[0m\n",
      "\u001b[1;31mIndexError\u001b[0m: only integers, slices (`:`), ellipsis (`...`), numpy.newaxis (`None`) and integer or boolean arrays are valid indices"
     ]
    }
   ],
   "source": [
    "q = train_polynomial(5, X)"
   ]
  },
  {
   "cell_type": "code",
   "execution_count": null,
   "id": "e5937bd6",
   "metadata": {},
   "outputs": [],
   "source": []
  }
 ],
 "metadata": {
  "kernelspec": {
   "display_name": "Python 3 (ipykernel)",
   "language": "python",
   "name": "python3"
  },
  "language_info": {
   "codemirror_mode": {
    "name": "ipython",
    "version": 3
   },
   "file_extension": ".py",
   "mimetype": "text/x-python",
   "name": "python",
   "nbconvert_exporter": "python",
   "pygments_lexer": "ipython3",
   "version": "3.9.6"
  }
 },
 "nbformat": 4,
 "nbformat_minor": 5
}
