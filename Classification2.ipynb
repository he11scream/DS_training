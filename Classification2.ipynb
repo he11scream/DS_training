{
 "cells": [
  {
   "cell_type": "markdown",
   "id": "b4444ab5",
   "metadata": {},
   "source": [
    "# Классификация \n",
    "## Boosting\n"
   ]
  },
  {
   "cell_type": "markdown",
   "id": "dbbb3b3b",
   "metadata": {},
   "source": [
    "**Ансамбли алгоритмов** - метод, использующий одновременно несколько обучающих алгоритмов для получения лучшего результата по сравнению с результатами каждого из алгоритмов по отдельности.\n",
    "\n",
    "**Ансамбль алгоритмов** состоит из базовых алгоритмов (base learners), а алгоритм, который комбинирует полученные ответы, - **мета-алгоритм (meta-estimator)**\n",
    "\n",
    "При построении ансамбля:\n",
    "* повышают качество базовых алгоритмов\n",
    "* повышают разнообразие базовых алгоритмов"
   ]
  },
  {
   "cell_type": "code",
   "execution_count": null,
   "id": "928c989e",
   "metadata": {},
   "outputs": [],
   "source": []
  }
 ],
 "metadata": {
  "kernelspec": {
   "display_name": "Python 3 (ipykernel)",
   "language": "python",
   "name": "python3"
  },
  "language_info": {
   "codemirror_mode": {
    "name": "ipython",
    "version": 3
   },
   "file_extension": ".py",
   "mimetype": "text/x-python",
   "name": "python",
   "nbconvert_exporter": "python",
   "pygments_lexer": "ipython3",
   "version": "3.9.6"
  }
 },
 "nbformat": 4,
 "nbformat_minor": 5
}
