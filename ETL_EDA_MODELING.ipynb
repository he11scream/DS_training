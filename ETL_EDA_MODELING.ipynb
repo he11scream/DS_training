{
 "cells": [
  {
   "cell_type": "markdown",
   "id": "6b6b8736",
   "metadata": {},
   "source": [
    "![]('data.jpg')"
   ]
  },
  {
   "cell_type": "markdown",
   "id": "35ce1e22",
   "metadata": {},
   "source": [
    "# Данные"
   ]
  },
  {
   "cell_type": "markdown",
   "id": "a3fbf883",
   "metadata": {},
   "source": [
    "![data](data.jpg)"
   ]
  },
  {
   "cell_type": "markdown",
   "id": "f0b05b22",
   "metadata": {},
   "source": [
    "## ETL\n",
    "* Extract - вытаскивание данных из источников\n",
    "* Transform - преобработка, очистка, трансформирование\n",
    "* Load - загрузка данных в хранилище"
   ]
  },
  {
   "cell_type": "markdown",
   "id": "6651f0de",
   "metadata": {},
   "source": [
    "## EDA - разведочный анализ\n",
    "* выявление наиболее важных переменных\n",
    "* обнаружение аномалий и выбросов\n",
    "* проверка гипотез, связанных с конкретной моделью\n",
    "* оценке статистик (таких как среднее значение или разброс относительно него) и выявление закономерностей"
   ]
  },
  {
   "cell_type": "markdown",
   "id": "8d1122a3",
   "metadata": {},
   "source": [
    "При проведение EDA первым лучшего всего исследовать ту переменную, которую нужно прогнозировать.\n",
    "Лучше всего использовать гистограмму"
   ]
  },
  {
   "cell_type": "markdown",
   "id": "cb932ff0",
   "metadata": {},
   "source": [
    "Для анализа зависимостей между данными, можно использовать график плостности"
   ]
  },
  {
   "cell_type": "markdown",
   "id": "f2f3af96",
   "metadata": {},
   "source": [
    "На этапе EDA нужно стараться группировать данные"
   ]
  },
  {
   "cell_type": "markdown",
   "id": "690ad970",
   "metadata": {},
   "source": [
    "По диаграмма рассеяния прекрасно прослеживается взаимосвязь между переменными"
   ]
  },
  {
   "cell_type": "markdown",
   "id": "47530581",
   "metadata": {},
   "source": [
    "## Моделирование"
   ]
  },
  {
   "cell_type": "markdown",
   "id": "608b3300",
   "metadata": {},
   "source": [
    "### Конструирования и выбора признаков"
   ]
  },
  {
   "cell_type": "markdown",
   "id": "1bb9bc82",
   "metadata": {},
   "source": [
    "Из пар сильно связанных между собой признаков можно убрать одну из переменных без потери качества модели"
   ]
  },
  {
   "cell_type": "markdown",
   "id": "c863d414",
   "metadata": {},
   "source": [
    "Категориальные фичи нужно переводить в числовые"
   ]
  },
  {
   "cell_type": "markdown",
   "id": "c9f6a1c8",
   "metadata": {},
   "source": [
    "### Выбор алгоритма машинного обучения"
   ]
  },
  {
   "cell_type": "markdown",
   "id": "911e33ff",
   "metadata": {},
   "source": [
    "#### Выбор типа моделей\n",
    "Обучение с учителем:\n",
    "* Регрессия\n",
    "* Классификация\n",
    "\n",
    "Обучение без учителя:\n",
    "* Кластеризация\n",
    "* Уменьшение размености\n",
    "* Поиск ассоциативных правил\n",
    "\n",
    "С подкреплением"
   ]
  },
  {
   "cell_type": "markdown",
   "id": "01809c44",
   "metadata": {},
   "source": [
    "#### Выбор модели машинного обучения зависит от интерпретируемости и точности предсказания:\n",
    "От более точных и менее интерпретируемых:\n",
    "* нейронные сети\n",
    "* support vector machines\n",
    "* Random Forest\n",
    "* K-Nearest Neighbors\n",
    "* Decision Tree (дерево решений)\n",
    "* Linear Regression (линейная регрессия)"
   ]
  },
  {
   "cell_type": "markdown",
   "id": "98bf65e2",
   "metadata": {},
   "source": [
    "#### Настройка гиперпараметров"
   ]
  },
  {
   "cell_type": "markdown",
   "id": "d2ce8efc",
   "metadata": {},
   "source": [
    "#### Сравнение моделей\n",
    "* mae\n",
    "* mse\n",
    "##### разбиение данных на тренировочные (train), валидационные (validation), тестовые (test)"
   ]
  },
  {
   "cell_type": "markdown",
   "id": "19cc34b1",
   "metadata": {},
   "source": [
    "### Корректировка модели при плохих результатах\n",
    "#### 1 шаг - собрать больше данных\n",
    "#### 2 шаг - пересмотреть фичи"
   ]
  },
  {
   "cell_type": "code",
   "execution_count": null,
   "id": "3ac82e51",
   "metadata": {},
   "outputs": [],
   "source": []
  }
 ],
 "metadata": {
  "kernelspec": {
   "display_name": "Python 3 (ipykernel)",
   "language": "python",
   "name": "python3"
  },
  "language_info": {
   "codemirror_mode": {
    "name": "ipython",
    "version": 3
   },
   "file_extension": ".py",
   "mimetype": "text/x-python",
   "name": "python",
   "nbconvert_exporter": "python",
   "pygments_lexer": "ipython3",
   "version": "3.9.6"
  }
 },
 "nbformat": 4,
 "nbformat_minor": 5
}
