{
 "cells": [
  {
   "cell_type": "markdown",
   "id": "1e311629",
   "metadata": {},
   "source": [
    "## Построение трёхмерных графиков"
   ]
  },
  {
   "cell_type": "code",
   "execution_count": 8,
   "id": "47fbefed",
   "metadata": {},
   "outputs": [
    {
     "name": "stdout",
     "output_type": "stream",
     "text": [
      "Using matplotlib backend: TkAgg\n"
     ]
    },
    {
     "name": "stderr",
     "output_type": "stream",
     "text": [
      "C:\\Users\\He11scream\\AppData\\Local\\Temp\\ipykernel_8608\\1796383495.py:6: MatplotlibDeprecationWarning: Axes3D(fig) adding itself to the figure is deprecated since 3.4. Pass the keyword argument auto_add_to_figure=False and use fig.add_axes(ax) to suppress this warning. The default value of auto_add_to_figure will change to False in mpl3.5 and True values will no longer work in 3.6.  This is consistent with other Axes classes.\n",
      "  ax_3d = Axes3D(fig)\n"
     ]
    }
   ],
   "source": [
    "import numpy as np\n",
    "import matplotlib.pyplot as plt\n",
    "from mpl_toolkits.mplot3d import Axes3D\n",
    "%matplotlib\n",
    "fig = plt.figure(figsize=(10, 5))\n",
    "ax_3d = Axes3D(fig)\n",
    "x = np.linspace(0, 10, 50)\n",
    "z = np.cos(x)\n",
    "ax_3d.plot(x, x, z)\n",
    "plt.show()"
   ]
  },
  {
   "cell_type": "code",
   "execution_count": 9,
   "id": "0789a74c",
   "metadata": {},
   "outputs": [
    {
     "name": "stderr",
     "output_type": "stream",
     "text": [
      "C:\\Users\\He11scream\\AppData\\Local\\Temp\\ipykernel_8608\\2167256605.py:2: MatplotlibDeprecationWarning: Axes3D(fig) adding itself to the figure is deprecated since 3.4. Pass the keyword argument auto_add_to_figure=False and use fig.add_axes(ax) to suppress this warning. The default value of auto_add_to_figure will change to False in mpl3.5 and True values will no longer work in 3.6.  This is consistent with other Axes classes.\n",
      "  ax_3d = Axes3D(fig)\n"
     ]
    }
   ],
   "source": [
    "fig = plt.figure(figsize=(10, 5))\n",
    "ax_3d = Axes3D(fig)\n",
    "x = np.linspace(0, 10, 50)\n",
    "z = np.cos(x)\n",
    "ax_3d.plot(x, x, z)\n",
    "ax_3d.set_xlabel('x')\n",
    "ax_3d.set_ylabel('y')\n",
    "ax_3d.set_zlabel('z')\n",
    "plt.show()"
   ]
  },
  {
   "cell_type": "code",
   "execution_count": 14,
   "id": "a7246a6c",
   "metadata": {},
   "outputs": [
    {
     "name": "stderr",
     "output_type": "stream",
     "text": [
      "C:\\Users\\He11scream\\AppData\\Local\\Temp\\ipykernel_8608\\1949942725.py:2: MatplotlibDeprecationWarning: Axes3D(fig) adding itself to the figure is deprecated since 3.4. Pass the keyword argument auto_add_to_figure=False and use fig.add_axes(ax) to suppress this warning. The default value of auto_add_to_figure will change to False in mpl3.5 and True values will no longer work in 3.6.  This is consistent with other Axes classes.\n",
      "  ax_3d = Axes3D(fig)\n"
     ]
    }
   ],
   "source": [
    "fig = plt.figure(figsize=(10, 5))\n",
    "ax_3d = Axes3D(fig)\n",
    "x = np.arange(-2*np.pi, 2*np.pi, 0.2)\n",
    "y = np.arange(-2*np.pi, 2*np.pi, 0.2)\n",
    "xgrid, ygrid = np.meshgrid(x, y)\n",
    "zgrid = np.sin(xgrid) * np.sin(ygrid) / (xgrid*ygrid)\n",
    "ax_3d.plot_wireframe(xgrid, ygrid, zgrid)\n",
    "plt.show()"
   ]
  },
  {
   "cell_type": "code",
   "execution_count": 15,
   "id": "d1176c70",
   "metadata": {},
   "outputs": [
    {
     "name": "stderr",
     "output_type": "stream",
     "text": [
      "C:\\Users\\He11scream\\AppData\\Local\\Temp\\ipykernel_8608\\4233229361.py:2: MatplotlibDeprecationWarning: Axes3D(fig) adding itself to the figure is deprecated since 3.4. Pass the keyword argument auto_add_to_figure=False and use fig.add_axes(ax) to suppress this warning. The default value of auto_add_to_figure will change to False in mpl3.5 and True values will no longer work in 3.6.  This is consistent with other Axes classes.\n",
      "  ax_3d = Axes3D(fig)\n"
     ]
    }
   ],
   "source": [
    "fig = plt.figure(figsize=(10, 5))\n",
    "ax_3d = Axes3D(fig)\n",
    "x = np.arange(-2*np.pi, 2*np.pi, 0.2)\n",
    "y = np.arange(-2*np.pi, 2*np.pi, 0.2)\n",
    "xgrid, ygrid = np.meshgrid(x, y)\n",
    "zgrid = np.sin(xgrid) * np.sin(ygrid) / (xgrid*ygrid)\n",
    "ax_3d.plot_surface(xgrid, ygrid, zgrid)\n",
    "plt.show()"
   ]
  },
  {
   "cell_type": "code",
   "execution_count": 18,
   "id": "48f0b364",
   "metadata": {},
   "outputs": [
    {
     "name": "stderr",
     "output_type": "stream",
     "text": [
      "C:\\Users\\He11scream\\AppData\\Local\\Temp\\ipykernel_8608\\86586052.py:2: MatplotlibDeprecationWarning: Axes3D(fig) adding itself to the figure is deprecated since 3.4. Pass the keyword argument auto_add_to_figure=False and use fig.add_axes(ax) to suppress this warning. The default value of auto_add_to_figure will change to False in mpl3.5 and True values will no longer work in 3.6.  This is consistent with other Axes classes.\n",
      "  ax_3d = Axes3D(fig)\n"
     ]
    }
   ],
   "source": [
    "fig = plt.figure(figsize=(10, 5))\n",
    "ax_3d = Axes3D(fig)\n",
    "x = np.arange(-2*np.pi, 2*np.pi, 0.2)\n",
    "y = np.arange(-2*np.pi, 2*np.pi, 0.2)\n",
    "xgrid, ygrid = np.meshgrid(x, y)\n",
    "zgrid = np.sin(xgrid) * np.sin(ygrid) / (xgrid*ygrid)\n",
    "ax_3d.plot_wireframe(xgrid, ygrid, zgrid, rstride=5, cstride=5)\n",
    "plt.show()"
   ]
  },
  {
   "cell_type": "code",
   "execution_count": null,
   "id": "b279d9e0",
   "metadata": {},
   "outputs": [],
   "source": []
  }
 ],
 "metadata": {
  "kernelspec": {
   "display_name": "Python 3 (ipykernel)",
   "language": "python",
   "name": "python3"
  },
  "language_info": {
   "codemirror_mode": {
    "name": "ipython",
    "version": 3
   },
   "file_extension": ".py",
   "mimetype": "text/x-python",
   "name": "python",
   "nbconvert_exporter": "python",
   "pygments_lexer": "ipython3",
   "version": "3.9.6"
  }
 },
 "nbformat": 4,
 "nbformat_minor": 5
}
