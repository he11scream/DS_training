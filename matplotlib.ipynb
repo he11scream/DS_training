{
 "cells": [
  {
   "cell_type": "code",
   "execution_count": 43,
   "id": "0073347b",
   "metadata": {},
   "outputs": [],
   "source": [
    "import pandas as pd\n",
    "import numpy as np\n",
    "import matplotlib.pyplot as plt\n",
    "%matplotlib inline"
   ]
  },
  {
   "cell_type": "code",
   "execution_count": 44,
   "id": "ad10e2bc",
   "metadata": {},
   "outputs": [],
   "source": [
    "plt.plot([1, 2, -6, 0, 4])\n",
    "plt.show()"
   ]
  },
  {
   "cell_type": "markdown",
   "id": "f2a3c8ce",
   "metadata": {},
   "source": [
    "![](matplotlib.png)"
   ]
  },
  {
   "cell_type": "code",
   "execution_count": 45,
   "id": "9f700748",
   "metadata": {},
   "outputs": [],
   "source": [
    "#plot - функция для построения двухмерных графиков. Принимает на вход массив numpy, который будет y-значениями.\n",
    "# x-значения будут как индексы массива. Но можно передать отдельным списком. plot(x, y)"
   ]
  },
  {
   "cell_type": "code",
   "execution_count": 46,
   "id": "38e5d201",
   "metadata": {},
   "outputs": [],
   "source": [
    "y = np.array([1, 2, -6, 0, 8])\n",
    "x = np.array([1, 2, 6, 3, 4])\n",
    "plt.plot(x, y)\n",
    "plt.show()"
   ]
  },
  {
   "cell_type": "code",
   "execution_count": 47,
   "id": "5aaea0a2",
   "metadata": {},
   "outputs": [],
   "source": [
    "x = np.array([1, 1, 5, 5, 1])\n",
    "y = np.array([1, 5, 5, 1, 1])\n",
    "plt.plot(x, y)\n",
    "plt.show()"
   ]
  },
  {
   "cell_type": "code",
   "execution_count": 48,
   "id": "82915610",
   "metadata": {},
   "outputs": [],
   "source": [
    "y = np.arange(0, 5, 1)\n",
    "x = np.array([x*x for x in y])"
   ]
  },
  {
   "cell_type": "code",
   "execution_count": 49,
   "id": "48010a74",
   "metadata": {},
   "outputs": [],
   "source": [
    "plt.plot(x, y)\n",
    "plt.show()"
   ]
  },
  {
   "cell_type": "code",
   "execution_count": 50,
   "id": "61acd3c9",
   "metadata": {},
   "outputs": [],
   "source": [
    "plt.plot(x, y)\n",
    "plt.grid()\n",
    "plt.show()"
   ]
  },
  {
   "cell_type": "code",
   "execution_count": 51,
   "id": "c7347f2d",
   "metadata": {},
   "outputs": [],
   "source": [
    "y2 = [0, 1, 2, 3]\n",
    "x2 = [i+1 for i in y2]\n",
    "\n",
    "plt.plot(x, y, x2, y2)\n",
    "plt.grid()\n",
    "plt.show()"
   ]
  },
  {
   "cell_type": "code",
   "execution_count": 52,
   "id": "39b6ca4f",
   "metadata": {},
   "outputs": [],
   "source": [
    "plt.plot(x, y)\n",
    "plt.plot(x2, y2)\n",
    "plt.grid()\n",
    "plt.show()"
   ]
  },
  {
   "cell_type": "code",
   "execution_count": 53,
   "id": "1aee0da8",
   "metadata": {},
   "outputs": [],
   "source": [
    "#изменение типа линии, передаётся 3 параметром в метод plot. Значения -, --, :, o, *, : и т.д.\n",
    "plt.plot(x, y, ':')\n",
    "plt.grid()\n",
    "plt.show()"
   ]
  },
  {
   "cell_type": "code",
   "execution_count": 54,
   "id": "f861f7c5",
   "metadata": {},
   "outputs": [],
   "source": [
    "#другой способ изменить способ отрисовки.\n",
    "lines = plt.plot(x, y)\n",
    "lines2 = plt.plot(x2, y2)\n",
    "plt.setp(lines2, linestyle = '--', color='#704214', marker='o', markerfacecolor='w', linewidth=4)\n",
    "plt.setp(lines, linestyle='-.', color='#0014a8', marker='s', markerfacecolor='w', linewidth=3)"
   ]
  },
  {
   "cell_type": "code",
   "execution_count": 55,
   "id": "1577dc48",
   "metadata": {},
   "outputs": [],
   "source": [
    "x = np.arange(-2*np.pi, 2*np.pi, 0.1)\n",
    "y = np.cos(x)\n",
    "plt.plot(x, y)\n",
    "#fill_between - создать области заливки\n",
    "plt.fill_between(x, y)\n",
    "plt.grid()\n",
    "plt.show()"
   ]
  },
  {
   "cell_type": "code",
   "execution_count": 56,
   "id": "4ce3398c",
   "metadata": {},
   "outputs": [],
   "source": [
    "#закраска по условию. where=условие\n",
    "plt.fill_between(x, y, where=(y < 0), color='r', alpha=0.5)\n",
    "plt.fill_between(x, y, where=(y > 0), color='g', alpha=0.5)\n",
    "plt.grid()\n",
    "plt.show()"
   ]
  },
  {
   "cell_type": "code",
   "execution_count": 57,
   "id": "18597f8a",
   "metadata": {},
   "outputs": [],
   "source": [
    "#разбиение графиков\n",
    "ax1 = plt.subplot(2, 3, 1)\n",
    "plt.plot(np.random.random(10))\n",
    "ax2 = plt.subplot(2, 3, 2)\n",
    "plt.plot(np.random.random(10))\n",
    "ax3 = plt.subplot(2, 3, 3)\n",
    "plt.plot(np.random.random(10))\n",
    "ax4 = plt.subplot(2, 1, 2)\n",
    "plt.plot(np.random.random(10))\n",
    "plt.grid()\n",
    "plt.show()"
   ]
  },
  {
   "cell_type": "code",
   "execution_count": 58,
   "id": "b5dd4726",
   "metadata": {},
   "outputs": [],
   "source": [
    "#создать несколько графиков по координатным осям\n",
    "#обратится к оси ax и выбрать первый элемент (это коллекция)\n",
    "f, ax = plt.subplots(2, 2)\n",
    "ax[0, 0].plot(np.arange(0, 5, 0.2))\n",
    "ax[0, 0].grid()\n",
    "ax[0, 1].plot(np.arange(5, 0, -0.2))\n",
    "ax[0, 1].grid()\n",
    "plt.show()"
   ]
  },
  {
   "cell_type": "code",
   "execution_count": 59,
   "id": "9399c328",
   "metadata": {},
   "outputs": [],
   "source": [
    "#создать несколько графиков по координатным осям\n",
    "#обратится к оси ax и выбрать первый элемент (это коллекция)\n",
    "f, ax = plt.subplots(2, 2)\n",
    "#установить размер графика\n",
    "f.set_size_inches(15, 10)\n",
    "#установить цвет фона\n",
    "f.set_facecolor('g')\n",
    "ax[0, 0].plot(np.arange(0, 5, 0.2))\n",
    "ax[0, 0].grid()\n",
    "ax[0, 1].plot(np.arange(5, 0, -0.2))\n",
    "ax[0, 1].grid()\n",
    "plt.show()"
   ]
  },
  {
   "cell_type": "code",
   "execution_count": 60,
   "id": "d5e86bde",
   "metadata": {},
   "outputs": [],
   "source": [
    "#создать отдельную фигуру сразу с установками\n",
    "fig = plt.figure(figsize=(7, 4))\n",
    "plt.plot(np.arange(0, 5, 0.2))"
   ]
  },
  {
   "cell_type": "code",
   "execution_count": 61,
   "id": "af0a5457",
   "metadata": {},
   "outputs": [],
   "source": [
    "f, ax = plt.subplots()\n",
    "f.set_size_inches(10, 5)\n",
    "f.set_facecolor('r')\n",
    "ax.plot(np.arange(0, 10, 1))\n",
    "plt.show()"
   ]
  },
  {
   "cell_type": "markdown",
   "id": "b9f0fba2",
   "metadata": {},
   "source": [
    "## Способ компоновки графиков с помощью GridSpec"
   ]
  },
  {
   "cell_type": "code",
   "execution_count": 62,
   "id": "67c7d7a7",
   "metadata": {},
   "outputs": [],
   "source": [
    "#сначала необходимо импортировать из библиотеки matplotlib.gridspec\n",
    "#разбитие gs = GridSpec(ncols=3, nrows=2, figure=fig) разбить на 3 колонки и 2 строки\n",
    "#В gs можно использовать срезы к примеру gs[0, 0] - первый столбец, первая строка\n",
    "#gs[:, 2] - все строки и второй столбец"
   ]
  },
  {
   "cell_type": "code",
   "execution_count": 63,
   "id": "383e0802",
   "metadata": {},
   "outputs": [],
   "source": [
    "from matplotlib.gridspec import GridSpec"
   ]
  },
  {
   "cell_type": "code",
   "execution_count": 64,
   "id": "564f00f7",
   "metadata": {},
   "outputs": [],
   "source": [
    "fig = plt.figure(figsize=(15, 10))\n",
    "gs = GridSpec(ncols=3, nrows=2, figure=fig)\n",
    "\n",
    "ax1 = plt.subplot(gs[0, 0])\n",
    "ax1.plot(np.arange(0, 10, 1))\n",
    "ax2 = plt.subplot(gs[1, 0:2])\n",
    "ax2.plot(np.random.random(10))\n",
    "ax3 = plt.subplot(gs[:, 2])\n",
    "ax3.plot(np.arange(0, 15, 1.5))\n",
    "plt.show()"
   ]
  },
  {
   "cell_type": "code",
   "execution_count": 65,
   "id": "36328c4e",
   "metadata": {},
   "outputs": [],
   "source": [
    "fig = plt.figure(figsize=(10, 10))\n",
    "ax = fig.add_subplot()\n",
    "ax.plot(np.arange(1, 5, 0.25))\n",
    "#установить граничные значения по x и по y\n",
    "ax.set(xlim=(-5, 30), ylim=(-1, 6))\n",
    "plt.show()"
   ]
  },
  {
   "cell_type": "code",
   "execution_count": 66,
   "id": "ce002653",
   "metadata": {},
   "outputs": [],
   "source": [
    "#по отдельности\n",
    "ax.set_xlim(-5, 30)\n",
    "ax.set_ylim(-1, 6)"
   ]
  },
  {
   "cell_type": "markdown",
   "id": "c5f17d07",
   "metadata": {},
   "source": [
    "![](matplotlib2.png)"
   ]
  },
  {
   "cell_type": "code",
   "execution_count": 67,
   "id": "7fa17534",
   "metadata": {},
   "outputs": [],
   "source": [
    "#Чтобы убирать сетку по осям X или Y используется NullLocator\n",
    "from matplotlib.ticker import NullLocator"
   ]
  },
  {
   "cell_type": "code",
   "execution_count": 68,
   "id": "df5110e7",
   "metadata": {},
   "outputs": [],
   "source": [
    "fig = plt.figure(figsize=(10, 10))\n",
    "ax = fig.add_subplot()\n",
    "ax.plot([x for x in range(10)])\n",
    "lc = NullLocator()\n",
    "#отключить сетку по X\n",
    "ax.grid()\n",
    "ax.xaxis.set_major_locator(lc)\n",
    "plt.show()"
   ]
  },
  {
   "cell_type": "code",
   "execution_count": 69,
   "id": "f32672d5",
   "metadata": {},
   "outputs": [],
   "source": [
    "fig = plt.figure(figsize=(10, 10))\n",
    "ax = fig.add_subplot()\n",
    "ax.plot([x for x in range(10)])\n",
    "lc = NullLocator()\n",
    "#отключить сетку по Y\n",
    "ax.grid()\n",
    "ax.yaxis.set_major_locator(lc)\n",
    "plt.show()"
   ]
  },
  {
   "cell_type": "code",
   "execution_count": 70,
   "id": "523682cc",
   "metadata": {},
   "outputs": [],
   "source": [
    "#Для задания нужного колличества меток по выбранной оси, используется LinearLocator"
   ]
  },
  {
   "cell_type": "code",
   "execution_count": 71,
   "id": "c80af64a",
   "metadata": {},
   "outputs": [],
   "source": [
    "from matplotlib.ticker import LinearLocator"
   ]
  },
  {
   "cell_type": "code",
   "execution_count": 72,
   "id": "b2d4dbbd",
   "metadata": {},
   "outputs": [],
   "source": [
    "fig = plt.figure(figsize=(10, 10))\n",
    "ax = fig.add_subplot()\n",
    "ax.plot([x for x in range(10)])\n",
    "ax.grid()\n",
    "#по оси Y будет взято только 5 меток\n",
    "ax.yaxis.set_major_locator(LinearLocator(5))\n",
    "plt.show()"
   ]
  },
  {
   "cell_type": "code",
   "execution_count": 73,
   "id": "27a399d1",
   "metadata": {},
   "outputs": [],
   "source": [
    "#для изменения шага по осям, используется MultipleLocator\n",
    "from matplotlib.ticker import MultipleLocator"
   ]
  },
  {
   "cell_type": "code",
   "execution_count": 74,
   "id": "73ee0d81",
   "metadata": {},
   "outputs": [],
   "source": [
    "fig = plt.figure(figsize=(10, 10))\n",
    "ax = fig.add_subplot()\n",
    "ax.plot([x for x in range(10)])\n",
    "ax.grid()\n",
    "#с помощью base устанавливается размер шага\n",
    "ax.yaxis.set_major_locator(MultipleLocator(base=2))\n",
    "plt.show()"
   ]
  },
  {
   "cell_type": "code",
   "execution_count": 75,
   "id": "e94ad6aa",
   "metadata": {},
   "outputs": [],
   "source": [
    "y = np.arange(0, 5, 1)\n",
    "x = np.arange([x*x for x in y])\n",
    "y2 = [0, 2, 3, 4, 5, 6, 7]\n",
    "x2 = [i+1 for i in y2]\n",
    "lines = plt.plot(x, y, x2, y2)\n",
    "plt.grid()\n",
    "plt.show()"
   ]
  },
  {
   "cell_type": "code",
   "execution_count": null,
   "id": "8d93de2a",
   "metadata": {},
   "outputs": [],
   "source": []
  }
 ],
 "metadata": {
  "kernelspec": {
   "display_name": "Python 3 (ipykernel)",
   "language": "python",
   "name": "python3"
  },
  "language_info": {
   "codemirror_mode": {
    "name": "ipython",
    "version": 3
   },
   "file_extension": ".py",
   "mimetype": "text/x-python",
   "name": "python",
   "nbconvert_exporter": "python",
   "pygments_lexer": "ipython3",
   "version": "3.9.6"
  }
 },
 "nbformat": 4,
 "nbformat_minor": 5
}
